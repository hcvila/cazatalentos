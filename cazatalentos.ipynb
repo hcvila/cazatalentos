{
  "nbformat": 4,
  "nbformat_minor": 0,
  "metadata": {
    "colab": {
      "provenance": []
    },
    "kernelspec": {
      "name": "python3",
      "display_name": "Python 3"
    },
    "language_info": {
      "name": "python"
    }
  },
  "cells": [
    {
      "cell_type": "code",
      "execution_count": 18,
      "metadata": {
        "id": "nUa3pqrxQRF7"
      },
      "outputs": [],
      "source": [
        "import  numpy as np\n",
        "import math\n",
        "\n",
        "np.random.seed(978323)\n",
        "\n",
        "# calcula cuantos encestes logra un jugadora con indice de enceste prob\n",
        "# haciendo qyt tiros libres\n",
        "\n",
        "def ftirar(prob, qty):\n",
        "  return sum(np.random.rand(qty) < prob)\n",
        "\n"
      ]
    },
    {
      "cell_type": "code",
      "source": [
        "#Cazatalentos 1\n",
        "\n",
        "  # todas las jugadoras tienen probabilidad 0.7\n",
        "  jugadoras = np.full(100, 0.70)\n",
        "  num_80_encestes = 0\n",
        "  num_79_encestes = 0\n",
        "  num_78_encestes = 0\n",
        "\n",
        "for i in range(10000): # diez mil experimentos\n",
        "    # simular 100 tiros para cada jugadora\n",
        "   resultados = vec_ftirar(jugadoras, 100)\n",
        "\n",
        "   for i in resultados:\n",
        "    if i == 80:\n",
        "     num_80_encestes += 1\n",
        "    if i == 79:\n",
        "     num_79_encestes += 1\n",
        "    if i == 78:\n",
        "     num_78_encestes += 1\n",
        "\n",
        "print(num_80_encestes,\n",
        "      num_79_encestes,\n",
        "      num_78_encestes)\n"
      ],
      "metadata": {
        "colab": {
          "base_uri": "https://localhost:8080/"
        },
        "id": "BMnjmcGHWuVx",
        "outputId": "89c48359-2e59-45c7-9416-bf5b389885d3"
      },
      "execution_count": 12,
      "outputs": [
        {
          "output_type": "stream",
          "name": "stdout",
          "text": [
            "7660 12382 18789\n"
          ]
        }
      ]
    },
    {
      "cell_type": "code",
      "source": [
        "  # todas las 100 jugadoras tienen probabilidad 0.7\n",
        "  jugadoras = np.full(100, 0.70)\n",
        "  num_80 = 0\n",
        "\n",
        "  for i in range(10000):\n",
        "     resultados = vec_ftirar(jugadoras, 100)\n",
        "\n",
        "     if any(i == 80 for i in resultados):\n",
        "        num_80 += 1\n",
        "\n",
        "print(num_80) # cantidad de veces que al menos 1 alcanza 80"
      ],
      "metadata": {
        "colab": {
          "base_uri": "https://localhost:8080/"
        },
        "id": "9lstt3tWAAlM",
        "outputId": "fc98e77a-bffd-4878-dea2-c055ee89036d"
      },
      "execution_count": 19,
      "outputs": [
        {
          "output_type": "stream",
          "name": "stdout",
          "text": [
            "5382\n"
          ]
        }
      ]
    },
    {
      "cell_type": "code",
      "source": [
        "# Cazatalentos 2\n",
        "  # todas las 200 jugadoras tienen probabilidad 0.7\n",
        "\n",
        "jugadoras = np.full(200, 0.70)\n",
        "num_80 = 0\n",
        "for i in range(10000):\n",
        "  resultados = vec_ftirar(jugadoras, 100)\n",
        "  if any(i == 80 for i in resultados):\n",
        "   num_80 += 1\n",
        "print(num_80)"
      ],
      "metadata": {
        "colab": {
          "base_uri": "https://localhost:8080/"
        },
        "id": "6PjnHzKVAWmx",
        "outputId": "44366bf7-42c0-4d3a-f5ea-37910ac1346f"
      },
      "execution_count": 28,
      "outputs": [
        {
          "output_type": "stream",
          "name": "stdout",
          "text": [
            "7807\n"
          ]
        }
      ]
    },
    {
      "cell_type": "code",
      "source": [
        "#Cazatalentos 3\n",
        "\n",
        " #2 jugadoras, 100 tiros\n",
        "\n",
        "jugadoras = np.full(2, 0.70)\n",
        "num_80 = 0\n",
        "\n",
        "for i in range(10000):\n",
        "  resultados = vec_ftirar(jugadoras, 100)\n",
        "\n",
        "  if any(i == 80 for i in resultados):\n",
        "    num_80 += 1\n",
        "\n",
        "print(num_80)"
      ],
      "metadata": {
        "colab": {
          "base_uri": "https://localhost:8080/"
        },
        "id": "QkIz9Hm2BNkc",
        "outputId": "85ff9331-6df0-4926-ab07-030faf0f444a"
      },
      "execution_count": 54,
      "outputs": [
        {
          "output_type": "stream",
          "name": "stdout",
          "text": [
            "159\n"
          ]
        }
      ]
    },
    {
      "cell_type": "code",
      "source": [
        "#Cazatalentos 4\n",
        "\n",
        " #100 jugadoras, 10 tiros\n",
        "\n",
        "jugadoras = np.full(100, 0.50) #proamos media de 0.5\n",
        "num_9 = 0\n",
        "\n",
        "for i in range(10000):\n",
        "  resultados = vec_ftirar(jugadoras, 10)\n",
        "\n",
        "  if any(i == 9 for i in resultados):\n",
        "    num_9 += 1\n",
        "\n",
        "print(num_9)"
      ],
      "metadata": {
        "colab": {
          "base_uri": "https://localhost:8080/"
        },
        "id": "JCItmf02E0fG",
        "outputId": "8561afdc-56c5-4593-e764-8388356d793c"
      },
      "execution_count": 68,
      "outputs": [
        {
          "output_type": "stream",
          "name": "stdout",
          "text": [
            "6240\n"
          ]
        }
      ]
    },
    {
      "cell_type": "code",
      "source": [
        "#Cazatalentos 7\n",
        "\n",
        " #5 jugadoras, 100 tiros\n",
        "\n",
        "jugadoras = np.full(5, 0.7)\n",
        "num_80 = 0\n",
        "\n",
        "for i in range(10000):\n",
        "  resultados = vec_ftirar(jugadoras, 100)\n",
        "\n",
        "  if any(i == 80 for i in resultados):\n",
        "    num_80 += 1\n",
        "\n",
        "print(num_80)"
      ],
      "metadata": {
        "colab": {
          "base_uri": "https://localhost:8080/"
        },
        "id": "Fnff5_02PJns",
        "outputId": "2cb16ade-0f05-4639-9852-5f3e4e639273"
      },
      "execution_count": 70,
      "outputs": [
        {
          "output_type": "stream",
          "name": "stdout",
          "text": [
            "348\n"
          ]
        }
      ]
    }
  ]
}